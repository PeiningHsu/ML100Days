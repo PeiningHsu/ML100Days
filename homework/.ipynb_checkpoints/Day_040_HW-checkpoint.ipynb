{
 "cells": [
  {
   "cell_type": "markdown",
   "metadata": {},
   "source": [
    "## [作業重點]\n",
    "使用 Sklearn 中的 Lasso, Ridge 模型，來訓練各種資料集，務必了解送進去模型訓練的**資料型態**為何，也請了解模型中各項參數的意義。\n",
    "\n",
    "機器學習的模型非常多種，但要訓練的資料多半有固定的格式，確保你了解訓練資料的格式為何，這樣在應用新模型時，就能夠最快的上手開始訓練！"
   ]
  },
  {
   "cell_type": "markdown",
   "metadata": {},
   "source": [
    "## 練習時間\n",
    "試著使用 sklearn datasets 的其他資料集 (boston, ...)，來訓練自己的線性迴歸模型，並加上適當的正則化來觀察訓練情形。"
   ]
  },
  {
   "cell_type": "code",
   "execution_count": 1,
   "metadata": {},
   "outputs": [],
   "source": [
    "import numpy as np\n",
    "import matplotlib.pyplot as plt\n",
    "from sklearn import datasets, linear_model\n",
    "from sklearn.model_selection import train_test_split\n",
    "from sklearn.metrics import mean_squared_error, r2_score"
   ]
  },
  {
   "cell_type": "code",
   "execution_count": 8,
   "metadata": {},
   "outputs": [],
   "source": [
    "wine = datasets.load_wine()\n",
    "X_train, X_test, Y_train, Y_test = train_test_split(wine.data, wine.target, test_size = 0.1, random_state = 42)\n",
    "regline = linear_model.LinearRegression()\n",
    "regline.fit(X_train, Y_train)\n",
    "wine_pre = regline.predict(X_test)"
   ]
  },
  {
   "cell_type": "code",
   "execution_count": 10,
   "metadata": {},
   "outputs": [
    {
     "name": "stdout",
     "output_type": "stream",
     "text": [
      "[-1.07403236e-01  4.69130204e-02 -2.27017110e-01  4.35115903e-02\n",
      " -2.25412406e-04  1.49911487e-01 -3.28436931e-01 -2.96229540e-01\n",
      "  1.54421999e-02  7.40588848e-02 -1.03857840e-01 -3.04613655e-01\n",
      " -6.94708275e-04]\n",
      "0.09094259872172558\n"
     ]
    }
   ],
   "source": [
    "print(regline.coef_)\n",
    "print(mean_squared_error(Y_test, wine_pre))"
   ]
  },
  {
   "cell_type": "code",
   "execution_count": 31,
   "metadata": {},
   "outputs": [],
   "source": [
    "wine = datasets.load_wine()\n",
    "X_train, X_test, Y_train, Y_test = train_test_split(wine.data, wine.target, test_size = 0.1, random_state = 42)\n",
    "regline = linear_model.Lasso(alpha = 0.01)\n",
    "regline.fit(X_train, Y_train)\n",
    "wine_pre = regline.predict(X_test)"
   ]
  },
  {
   "cell_type": "code",
   "execution_count": 32,
   "metadata": {},
   "outputs": [
    {
     "name": "stdout",
     "output_type": "stream",
     "text": [
      "[-7.78940766e-02  3.69778546e-02 -2.52457420e-02  3.10949983e-02\n",
      "  3.01229204e-06  0.00000000e+00 -2.69648089e-01 -0.00000000e+00\n",
      "  0.00000000e+00  8.15507122e-02 -0.00000000e+00 -2.39812342e-01\n",
      " -8.27839261e-04]\n",
      "0.0847782723712475\n"
     ]
    }
   ],
   "source": [
    "print(regline.coef_)\n",
    "print(mean_squared_error(Y_test, wine_pre))"
   ]
  },
  {
   "cell_type": "code",
   "execution_count": 13,
   "metadata": {},
   "outputs": [],
   "source": [
    "wine = datasets.load_wine()\n",
    "X_train, X_test, Y_train, Y_test = train_test_split(wine.data, wine.target, test_size = 0.1, random_state = 42)\n",
    "regline = linear_model.Ridge(alpha = 0.01)\n",
    "regline.fit(X_train, Y_train)\n",
    "wine_pre = regline.predict(X_test)"
   ]
  },
  {
   "cell_type": "code",
   "execution_count": 14,
   "metadata": {},
   "outputs": [
    {
     "name": "stdout",
     "output_type": "stream",
     "text": [
      "[-1.07387351e-01  4.69047473e-02 -2.26982009e-01  4.34932381e-02\n",
      " -2.21647472e-04  1.49662602e-01 -3.28258866e-01 -2.94252419e-01\n",
      "  1.54158334e-02  7.40746581e-02 -1.03868922e-01 -3.04427266e-01\n",
      " -6.94835052e-04]\n",
      "0.09093147753862514\n"
     ]
    }
   ],
   "source": [
    "print(regline.coef_)\n",
    "print(mean_squared_error(Y_test, wine_pre))"
   ]
  },
  {
   "cell_type": "code",
   "execution_count": 34,
   "metadata": {},
   "outputs": [
    {
     "name": "stdout",
     "output_type": "stream",
     "text": [
      "[-1.06191655e-01  4.65887607e-02 -2.13855933e-01  4.18505511e-02\n",
      " -1.89939097e-05  1.28128687e-01 -3.15508402e-01 -1.78247578e-01\n",
      "  1.35920805e-02  7.57035844e-02 -9.79142178e-02 -2.90314595e-01\n",
      " -7.08508788e-04]\n",
      "0.08994743259852693\n"
     ]
    }
   ],
   "source": [
    "wine = datasets.load_wine()\n",
    "X_train, X_test, Y_train, Y_test = train_test_split(wine.data, wine.target, test_size = 0.1, random_state = 42)\n",
    "regline = linear_model.Ridge(alpha = 1)\n",
    "regline.fit(X_train, Y_train)\n",
    "wine_pre = regline.predict(X_test)\n",
    "print(regline.coef_)\n",
    "print(mean_squared_error(Y_test, wine_pre))"
   ]
  },
  {
   "cell_type": "code",
   "execution_count": null,
   "metadata": {},
   "outputs": [],
   "source": []
  }
 ],
 "metadata": {
  "kernelspec": {
   "display_name": "Python 3",
   "language": "python",
   "name": "python3"
  },
  "language_info": {
   "codemirror_mode": {
    "name": "ipython",
    "version": 3
   },
   "file_extension": ".py",
   "mimetype": "text/x-python",
   "name": "python",
   "nbconvert_exporter": "python",
   "pygments_lexer": "ipython3",
   "version": "3.7.1"
  }
 },
 "nbformat": 4,
 "nbformat_minor": 2
}
